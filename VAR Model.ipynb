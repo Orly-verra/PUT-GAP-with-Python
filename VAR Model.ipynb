{
 "cells": [
  {
   "cell_type": "code",
   "execution_count": 23,
   "id": "01606ddd",
   "metadata": {},
   "outputs": [],
   "source": [
    "import pandas as pd                  # to create a DataFrame tableau \n",
    "import pandas_datareader.data as web # package that allows us to create a pandas DataFrame object by using various data sources from the internet.\n",
    "import numpy as np                   # calcul scientifique \n",
    "import datetime as dt                # traiter les dates \n",
    "import matplotlib.pyplot as plt      # ajouter des éléments tels que des lignes, des images ou des textes aux axes d'un graphique\n",
    "from matplotlib import style         # tracer et visualiser des données sous formes de graphiques.\n",
    "style.use ('ggplot')                 # tracer des fonctions \n",
    "import os\n",
    "\n",
    "pd.options.mode.chained_assignment = None  # default='warn' # pour éviter les warnings\n",
    "\n",
    "from matplotlib import pyplot\n",
    "%matplotlib inline\n",
    "\n",
    "import statsmodels.api as sm\n",
    "from statsmodels.graphics.tsaplots import plot_acf\n",
    "from statsmodels.graphics.tsaplots import plot_pacf\n",
    "import yfinance as yf\n",
    "from pandas import Series\n",
    "import seaborn as sns\n",
    "\n",
    "from pylab import rcParams  # to  customize Matplotlib\n",
    "from statsmodels.tsa.stattools import adfuller  # pour le test de dickey Fuller \n",
    "from statsmodels.tsa.api import VAR\n",
    "from scipy.stats import pearsonr"
   ]
  },
  {
   "cell_type": "markdown",
   "id": "fee077f7",
   "metadata": {},
   "source": [
    "## Read The Data"
   ]
  },
  {
   "cell_type": "code",
   "execution_count": 45,
   "id": "46dfe52c",
   "metadata": {},
   "outputs": [
    {
     "data": {
      "text/plain": [
       "'C:/Users/dell/Desktop/MASTER 2021 2023/M2IFM/S2M2/MEMOIRE/DATA/'"
      ]
     },
     "execution_count": 45,
     "metadata": {},
     "output_type": "execute_result"
    }
   ],
   "source": [
    "path = \"C:/Users/dell/Desktop/MASTER 2021 2023/M2IFM/S2M2/MEMOIRE/DATA/\"\n",
    "path"
   ]
  },
  {
   "cell_type": "code",
   "execution_count": 55,
   "id": "6f3a017e",
   "metadata": {},
   "outputs": [],
   "source": [
    "def parser(S):\n",
    "    return dt.strptime(S, '%Y-%m')"
   ]
  },
  {
   "cell_type": "code",
   "execution_count": 56,
   "id": "e682657b",
   "metadata": {},
   "outputs": [
    {
     "data": {
      "text/html": [
       "<div>\n",
       "<style scoped>\n",
       "    .dataframe tbody tr th:only-of-type {\n",
       "        vertical-align: middle;\n",
       "    }\n",
       "\n",
       "    .dataframe tbody tr th {\n",
       "        vertical-align: top;\n",
       "    }\n",
       "\n",
       "    .dataframe thead th {\n",
       "        text-align: right;\n",
       "    }\n",
       "</style>\n",
       "<table border=\"1\" class=\"dataframe\">\n",
       "  <thead>\n",
       "    <tr style=\"text-align: right;\">\n",
       "      <th></th>\n",
       "      <th>DATE</th>\n",
       "      <th>ASK</th>\n",
       "      <th>BID</th>\n",
       "      <th>VOLUME</th>\n",
       "      <th>SPREAD</th>\n",
       "      <th>LnVOLUME</th>\n",
       "    </tr>\n",
       "  </thead>\n",
       "  <tbody>\n",
       "    <tr>\n",
       "      <th>0</th>\n",
       "      <td>2001-01-01</td>\n",
       "      <td>0.939697</td>\n",
       "      <td>0.940119</td>\n",
       "      <td>15158.258065</td>\n",
       "      <td>0.000423</td>\n",
       "      <td>9.626301</td>\n",
       "    </tr>\n",
       "    <tr>\n",
       "      <th>1</th>\n",
       "      <td>2001-02-01</td>\n",
       "      <td>0.921614</td>\n",
       "      <td>0.922032</td>\n",
       "      <td>15665.750000</td>\n",
       "      <td>0.000418</td>\n",
       "      <td>9.659232</td>\n",
       "    </tr>\n",
       "    <tr>\n",
       "      <th>2</th>\n",
       "      <td>2001-03-01</td>\n",
       "      <td>0.909348</td>\n",
       "      <td>0.909732</td>\n",
       "      <td>9611.129032</td>\n",
       "      <td>0.000384</td>\n",
       "      <td>9.170677</td>\n",
       "    </tr>\n",
       "    <tr>\n",
       "      <th>3</th>\n",
       "      <td>2001-04-01</td>\n",
       "      <td>0.892967</td>\n",
       "      <td>0.893367</td>\n",
       "      <td>6687.166667</td>\n",
       "      <td>0.000400</td>\n",
       "      <td>8.807946</td>\n",
       "    </tr>\n",
       "    <tr>\n",
       "      <th>4</th>\n",
       "      <td>2001-05-01</td>\n",
       "      <td>0.875506</td>\n",
       "      <td>0.875942</td>\n",
       "      <td>6962.258065</td>\n",
       "      <td>0.000435</td>\n",
       "      <td>8.848259</td>\n",
       "    </tr>\n",
       "  </tbody>\n",
       "</table>\n",
       "</div>"
      ],
      "text/plain": [
       "        DATE       ASK       BID        VOLUME    SPREAD  LnVOLUME\n",
       "0 2001-01-01  0.939697  0.940119  15158.258065  0.000423  9.626301\n",
       "1 2001-02-01  0.921614  0.922032  15665.750000  0.000418  9.659232\n",
       "2 2001-03-01  0.909348  0.909732   9611.129032  0.000384  9.170677\n",
       "3 2001-04-01  0.892967  0.893367   6687.166667  0.000400  8.807946\n",
       "4 2001-05-01  0.875506  0.875942   6962.258065  0.000435  8.848259"
      ]
     },
     "execution_count": 56,
     "metadata": {},
     "output_type": "execute_result"
    }
   ],
   "source": [
    "### 1 - Données FOREX \n",
    "forex = pd.read_excel(path+\"stg2.xlsx\",sheet_name=\"Datayet\",date_parser=parser)\n",
    "forex.head(5)"
   ]
  },
  {
   "cell_type": "code",
   "execution_count": 57,
   "id": "bb6844ab",
   "metadata": {},
   "outputs": [
    {
     "data": {
      "text/html": [
       "<div>\n",
       "<style scoped>\n",
       "    .dataframe tbody tr th:only-of-type {\n",
       "        vertical-align: middle;\n",
       "    }\n",
       "\n",
       "    .dataframe tbody tr th {\n",
       "        vertical-align: top;\n",
       "    }\n",
       "\n",
       "    .dataframe thead th {\n",
       "        text-align: right;\n",
       "    }\n",
       "</style>\n",
       "<table border=\"1\" class=\"dataframe\">\n",
       "  <thead>\n",
       "    <tr style=\"text-align: right;\">\n",
       "      <th></th>\n",
       "      <th>DATE</th>\n",
       "      <th>Year</th>\n",
       "      <th>SEASON</th>\n",
       "      <th>ONI</th>\n",
       "      <th>Phase</th>\n",
       "      <th>dSST3.4</th>\n",
       "    </tr>\n",
       "  </thead>\n",
       "  <tbody>\n",
       "    <tr>\n",
       "      <th>0</th>\n",
       "      <td>2001-01-01</td>\n",
       "      <td>2001</td>\n",
       "      <td>djf</td>\n",
       "      <td>-0.680000</td>\n",
       "      <td>Cool Phase/La Nina</td>\n",
       "      <td>-0.63</td>\n",
       "    </tr>\n",
       "    <tr>\n",
       "      <th>1</th>\n",
       "      <td>2001-02-01</td>\n",
       "      <td>2001</td>\n",
       "      <td>jfm</td>\n",
       "      <td>-0.516667</td>\n",
       "      <td>Cool Phase/La Nina</td>\n",
       "      <td>-0.53</td>\n",
       "    </tr>\n",
       "    <tr>\n",
       "      <th>2</th>\n",
       "      <td>2001-03-01</td>\n",
       "      <td>2001</td>\n",
       "      <td>fma</td>\n",
       "      <td>-0.436667</td>\n",
       "      <td>Neutral Phase</td>\n",
       "      <td>-0.39</td>\n",
       "    </tr>\n",
       "    <tr>\n",
       "      <th>3</th>\n",
       "      <td>2001-04-01</td>\n",
       "      <td>2001</td>\n",
       "      <td>mam</td>\n",
       "      <td>-0.340000</td>\n",
       "      <td>Neutral Phase</td>\n",
       "      <td>-0.39</td>\n",
       "    </tr>\n",
       "    <tr>\n",
       "      <th>4</th>\n",
       "      <td>2001-05-01</td>\n",
       "      <td>2001</td>\n",
       "      <td>amj</td>\n",
       "      <td>-0.246667</td>\n",
       "      <td>Neutral Phase</td>\n",
       "      <td>-0.24</td>\n",
       "    </tr>\n",
       "  </tbody>\n",
       "</table>\n",
       "</div>"
      ],
      "text/plain": [
       "        DATE  Year SEASON       ONI               Phase  dSST3.4\n",
       "0 2001-01-01  2001    djf -0.680000  Cool Phase/La Nina    -0.63\n",
       "1 2001-02-01  2001    jfm -0.516667  Cool Phase/La Nina    -0.53\n",
       "2 2001-03-01  2001    fma -0.436667       Neutral Phase    -0.39\n",
       "3 2001-04-01  2001    mam -0.340000       Neutral Phase    -0.39\n",
       "4 2001-05-01  2001    amj -0.246667       Neutral Phase    -0.24"
      ]
     },
     "execution_count": 57,
     "metadata": {},
     "output_type": "execute_result"
    }
   ],
   "source": [
    "### 2- Données ONI \n",
    "oni = pd.read_excel(path+\"data_oni_forex.xlsx\",sheet_name=\"Tempyet\")\n",
    "oni = oni.iloc[:,[6,5,7,1,3,0]]\n",
    "oni.head(5)"
   ]
  },
  {
   "cell_type": "code",
   "execution_count": 60,
   "id": "1aae874e",
   "metadata": {},
   "outputs": [
    {
     "data": {
      "text/html": [
       "<div>\n",
       "<style scoped>\n",
       "    .dataframe tbody tr th:only-of-type {\n",
       "        vertical-align: middle;\n",
       "    }\n",
       "\n",
       "    .dataframe tbody tr th {\n",
       "        vertical-align: top;\n",
       "    }\n",
       "\n",
       "    .dataframe thead th {\n",
       "        text-align: right;\n",
       "    }\n",
       "</style>\n",
       "<table border=\"1\" class=\"dataframe\">\n",
       "  <thead>\n",
       "    <tr style=\"text-align: right;\">\n",
       "      <th></th>\n",
       "      <th>DATE</th>\n",
       "      <th>ASK</th>\n",
       "      <th>BID</th>\n",
       "      <th>VOLUME</th>\n",
       "      <th>SPREAD</th>\n",
       "      <th>LnVOLUME</th>\n",
       "      <th>Year</th>\n",
       "      <th>SEASON</th>\n",
       "      <th>ONI</th>\n",
       "      <th>Phase</th>\n",
       "      <th>dSST3.4</th>\n",
       "    </tr>\n",
       "  </thead>\n",
       "  <tbody>\n",
       "    <tr>\n",
       "      <th>0</th>\n",
       "      <td>2001-01-01</td>\n",
       "      <td>0.939697</td>\n",
       "      <td>0.940119</td>\n",
       "      <td>15158.258065</td>\n",
       "      <td>0.000423</td>\n",
       "      <td>9.626301</td>\n",
       "      <td>2001</td>\n",
       "      <td>djf</td>\n",
       "      <td>-0.680000</td>\n",
       "      <td>Cool Phase/La Nina</td>\n",
       "      <td>-0.63</td>\n",
       "    </tr>\n",
       "    <tr>\n",
       "      <th>1</th>\n",
       "      <td>2001-02-01</td>\n",
       "      <td>0.921614</td>\n",
       "      <td>0.922032</td>\n",
       "      <td>15665.750000</td>\n",
       "      <td>0.000418</td>\n",
       "      <td>9.659232</td>\n",
       "      <td>2001</td>\n",
       "      <td>jfm</td>\n",
       "      <td>-0.516667</td>\n",
       "      <td>Cool Phase/La Nina</td>\n",
       "      <td>-0.53</td>\n",
       "    </tr>\n",
       "    <tr>\n",
       "      <th>2</th>\n",
       "      <td>2001-03-01</td>\n",
       "      <td>0.909348</td>\n",
       "      <td>0.909732</td>\n",
       "      <td>9611.129032</td>\n",
       "      <td>0.000384</td>\n",
       "      <td>9.170677</td>\n",
       "      <td>2001</td>\n",
       "      <td>fma</td>\n",
       "      <td>-0.436667</td>\n",
       "      <td>Neutral Phase</td>\n",
       "      <td>-0.39</td>\n",
       "    </tr>\n",
       "    <tr>\n",
       "      <th>3</th>\n",
       "      <td>2001-04-01</td>\n",
       "      <td>0.892967</td>\n",
       "      <td>0.893367</td>\n",
       "      <td>6687.166667</td>\n",
       "      <td>0.000400</td>\n",
       "      <td>8.807946</td>\n",
       "      <td>2001</td>\n",
       "      <td>mam</td>\n",
       "      <td>-0.340000</td>\n",
       "      <td>Neutral Phase</td>\n",
       "      <td>-0.39</td>\n",
       "    </tr>\n",
       "    <tr>\n",
       "      <th>4</th>\n",
       "      <td>2001-05-01</td>\n",
       "      <td>0.875506</td>\n",
       "      <td>0.875942</td>\n",
       "      <td>6962.258065</td>\n",
       "      <td>0.000435</td>\n",
       "      <td>8.848259</td>\n",
       "      <td>2001</td>\n",
       "      <td>amj</td>\n",
       "      <td>-0.246667</td>\n",
       "      <td>Neutral Phase</td>\n",
       "      <td>-0.24</td>\n",
       "    </tr>\n",
       "  </tbody>\n",
       "</table>\n",
       "</div>"
      ],
      "text/plain": [
       "        DATE       ASK       BID        VOLUME    SPREAD  LnVOLUME  Year  \\\n",
       "0 2001-01-01  0.939697  0.940119  15158.258065  0.000423  9.626301  2001   \n",
       "1 2001-02-01  0.921614  0.922032  15665.750000  0.000418  9.659232  2001   \n",
       "2 2001-03-01  0.909348  0.909732   9611.129032  0.000384  9.170677  2001   \n",
       "3 2001-04-01  0.892967  0.893367   6687.166667  0.000400  8.807946  2001   \n",
       "4 2001-05-01  0.875506  0.875942   6962.258065  0.000435  8.848259  2001   \n",
       "\n",
       "  SEASON       ONI               Phase  dSST3.4  \n",
       "0    djf -0.680000  Cool Phase/La Nina    -0.63  \n",
       "1    jfm -0.516667  Cool Phase/La Nina    -0.53  \n",
       "2    fma -0.436667       Neutral Phase    -0.39  \n",
       "3    mam -0.340000       Neutral Phase    -0.39  \n",
       "4    amj -0.246667       Neutral Phase    -0.24  "
      ]
     },
     "execution_count": 60,
     "metadata": {},
     "output_type": "execute_result"
    }
   ],
   "source": [
    "### Fusion bases forex & ONI \n",
    "forexoni=pd.merge(forex,oni,on=\"DATE\") \n",
    "forexoni.head(5) "
   ]
  },
  {
   "cell_type": "code",
   "execution_count": 59,
   "id": "142559fb",
   "metadata": {},
   "outputs": [
    {
     "data": {
      "text/plain": [
       "<matplotlib.legend.Legend at 0x1dd9ba90340>"
      ]
     },
     "execution_count": 59,
     "metadata": {},
     "output_type": "execute_result"
    },
    {
     "data": {
      "image/png": "[encoded data removed]",
      "text/plain": [
       "<Figure size 864x432 with 1 Axes>"
      ]
     },
     "metadata": {
      "needs_background": "light"
     },
     "output_type": "display_data"
    }
   ],
   "source": [
    "plt.figure(figsize=(12,6))\n",
    "ice_cream, = plt.plot(forexoni['VOLUME'])\n",
    "heater, = plt.plot(forexoni['ONI'], color='red')\n",
    "\n",
    "\n",
    "\n",
    "plt.legend(['Ice Cream', 'Heater'], fontsize=16)"
   ]
  },
  {
   "cell_type": "markdown",
   "id": "9dbc45b0",
   "metadata": {},
   "source": [
    "## Normalize"
   ]
  },
  {
   "cell_type": "code",
   "execution_count": 34,
   "id": "50fb233c",
   "metadata": {},
   "outputs": [
    {
     "name": "stderr",
     "output_type": "stream",
     "text": [
      "C:\\Users\\dell\\AppData\\Local\\Temp/ipykernel_40068/1615463205.py:1: FutureWarning: DataFrame.mean and DataFrame.median with numeric_only=None will include datetime64 and datetime64tz columns in a future version.\n",
      "  avgs = forexoni.mean()\n",
      "C:\\Users\\dell\\AppData\\Local\\Temp/ipykernel_40068/1615463205.py:1: FutureWarning: Dropping of nuisance columns in DataFrame reductions (with 'numeric_only=None') is deprecated; in a future version this will raise TypeError.  Select only valid columns before calling the reduction.\n",
      "  avgs = forexoni.mean()\n",
      "C:\\Users\\dell\\AppData\\Local\\Temp/ipykernel_40068/1615463205.py:2: FutureWarning: Dropping of nuisance columns in DataFrame reductions (with 'numeric_only=None') is deprecated; in a future version this will raise TypeError.  Select only valid columns before calling the reduction.\n",
      "  devs = forexoni.std()\n"
     ]
    }
   ],
   "source": [
    "avgs = forexoni.mean()\n",
    "devs = forexoni.std()"
   ]
  },
  {
   "cell_type": "code",
   "execution_count": 40,
   "id": "8aa9facc",
   "metadata": {},
   "outputs": [
    {
     "ename": "TypeError",
     "evalue": "'module' object is not callable",
     "output_type": "error",
     "traceback": [
      "\u001b[1;31m---------------------------------------------------------------------------\u001b[0m",
      "\u001b[1;31mTypeError\u001b[0m                                 Traceback (most recent call last)",
      "\u001b[1;32m~\\AppData\\Local\\Temp/ipykernel_40068/200206360.py\u001b[0m in \u001b[0;36m<module>\u001b[1;34m\u001b[0m\n\u001b[0;32m      3\u001b[0m \u001b[1;33m\u001b[0m\u001b[0m\n\u001b[0;32m      4\u001b[0m \u001b[1;32mfor\u001b[0m \u001b[0myear\u001b[0m \u001b[1;32min\u001b[0m \u001b[0mrange\u001b[0m\u001b[1;33m(\u001b[0m\u001b[1;36m2004\u001b[0m\u001b[1;33m,\u001b[0m \u001b[1;36m2021\u001b[0m\u001b[1;33m)\u001b[0m\u001b[1;33m:\u001b[0m\u001b[1;33m\u001b[0m\u001b[1;33m\u001b[0m\u001b[0m\n\u001b[1;32m----> 5\u001b[1;33m     \u001b[0mplt\u001b[0m\u001b[1;33m.\u001b[0m\u001b[0maxvline\u001b[0m\u001b[1;33m(\u001b[0m\u001b[0mdt\u001b[0m\u001b[1;33m(\u001b[0m\u001b[0myear\u001b[0m\u001b[1;33m,\u001b[0m\u001b[1;36m0.5\u001b[0m\u001b[1;33m,\u001b[0m\u001b[1;36m0.25\u001b[0m\u001b[1;33m)\u001b[0m\u001b[1;33m,\u001b[0m \u001b[0mlinestyle\u001b[0m\u001b[1;33m=\u001b[0m\u001b[1;34m'--'\u001b[0m\u001b[1;33m,\u001b[0m \u001b[0mcolor\u001b[0m\u001b[1;33m=\u001b[0m\u001b[1;34m'k'\u001b[0m\u001b[1;33m,\u001b[0m \u001b[0malpha\u001b[0m\u001b[1;33m=\u001b[0m\u001b[1;36m0.5\u001b[0m\u001b[1;33m)\u001b[0m\u001b[1;33m\u001b[0m\u001b[1;33m\u001b[0m\u001b[0m\n\u001b[0m\u001b[0;32m      6\u001b[0m \u001b[1;33m\u001b[0m\u001b[0m\n\u001b[0;32m      7\u001b[0m \u001b[0mplt\u001b[0m\u001b[1;33m.\u001b[0m\u001b[0maxhline\u001b[0m\u001b[1;33m(\u001b[0m\u001b[1;36m0\u001b[0m\u001b[1;33m,\u001b[0m \u001b[0mlinestyle\u001b[0m\u001b[1;33m=\u001b[0m\u001b[1;34m'--'\u001b[0m\u001b[1;33m,\u001b[0m \u001b[0mcolor\u001b[0m\u001b[1;33m=\u001b[0m\u001b[1;34m'k'\u001b[0m\u001b[1;33m,\u001b[0m \u001b[0malpha\u001b[0m\u001b[1;33m=\u001b[0m\u001b[1;36m0.3\u001b[0m\u001b[1;33m)\u001b[0m\u001b[1;33m\u001b[0m\u001b[1;33m\u001b[0m\u001b[0m\n",
      "\u001b[1;31mTypeError\u001b[0m: 'module' object is not callable"
     ]
    },
    {
     "data": {
      "image/png": "[encoded data removed]",
      "text/plain": [
       "<Figure size 864x432 with 1 Axes>"
      ]
     },
     "metadata": {
      "needs_background": "light"
     },
     "output_type": "display_data"
    }
   ],
   "source": [
    "plt.figure(figsize=(12,6))\n",
    "ice_cream, = plt.plot(forexoni['VOLUME'])\n",
    "\n",
    "for year in range(2004, 2021):\n",
    "    plt.axvline(dt(year,1,1), linestyle='--', color='k', alpha=0.5)\n",
    "    \n",
    "plt.axhline(0, linestyle='--', color='k', alpha=0.3)\n",
    "plt.ylabel('First Difference', fontsize=18)\n",
    "plt.legend(['Ice Cream'], fontsize=16)"
   ]
  },
  {
   "cell_type": "code",
   "execution_count": null,
   "id": "93eb5abc",
   "metadata": {},
   "outputs": [],
   "source": [
    "# Creating the dataset - using copy\n",
    "#copy['Date'] = pd.to_datetime(copy.dt)\n",
    "#copy['Year'] = copy['Date'].dt.year\n",
    "land_avg = forexoni.groupby('Year')['LnVOLUME', 'ONI'].mean().reset_index()\n",
    "\n",
    "# Creating the graph\n",
    "fig = go.Figure()\n",
    "fig.update_layout(title=\"Land Average Temperature: 1750-2023\", title_font_size = 20,\n",
    "                  font=dict( family=\"Courier New, monospace\", size=12,color=\"#7f7f7f\"),\n",
    "                  template = \"ggplot2\", hovermode= 'closest')\n",
    "fig.update_xaxes(showline=True, linewidth=1, linecolor='gray')\n",
    "fig.update_yaxes(showline=True, linewidth=1, linecolor='gray')\n",
    "\n",
    "fig.add_trace(go.Scatter(x = land_avg['Year'], y = land_avg['LnVOLUME'], mode = 'lines',\n",
    "                        name = 'Land Avg Temp', marker_color='rgb(128, 0, 0)'))\n",
    "\n",
    "fig.add_trace(go.Scatter(x = land_avg['Year'], y = land_avg['ONI'], mode = 'lines',\n",
    "                        name = 'Land Avg Temp Error', marker_color = 'rgb(107,142,35)'))"
   ]
  }
 ],
 "metadata": {
  "kernelspec": {
   "display_name": "Python 3 (ipykernel)",
   "language": "python",
   "name": "python3"
  },
  "language_info": {
   "codemirror_mode": {
    "name": "ipython",
    "version": 3
   },
   "file_extension": ".py",
   "mimetype": "text/x-python",
   "name": "python",
   "nbconvert_exporter": "python",
   "pygments_lexer": "ipython3",
   "version": "3.9.7"
  }
 },
 "nbformat": 4,
 "nbformat_minor": 5
}
