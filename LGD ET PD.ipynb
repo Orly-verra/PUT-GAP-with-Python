{
 "cells": [
  {
   "cell_type": "code",
   "execution_count": 3,
   "metadata": {},
   "outputs": [],
   "source": [
    "import numpy as np\n",
    "import pandas as pd"
   ]
  },
  {
   "cell_type": "markdown",
   "metadata": {},
   "source": [
    "## Exercice 1"
   ]
  },
  {
   "cell_type": "code",
   "execution_count": 10,
   "metadata": {},
   "outputs": [],
   "source": [
    "N = 15*12\n",
    "K = 100e6\n",
    "swaprate = 1.1/100"
   ]
  },
  {
   "cell_type": "code",
   "execution_count": 11,
   "metadata": {},
   "outputs": [],
   "source": [
    "LIBOR = np.array([-54.9, -54.7, -56.2, -60.1])/10000"
   ]
  },
  {
   "cell_type": "code",
   "execution_count": 12,
   "metadata": {},
   "outputs": [
    {
     "data": {
      "text/plain": [
       "0.002738728493097309"
      ]
     },
     "execution_count": 12,
     "metadata": {},
     "output_type": "execute_result"
    }
   ],
   "source": [
    "swaprate_q = (1+swaprate)**(1/4) - 1\n",
    "swaprate_q"
   ]
  },
  {
   "cell_type": "code",
   "execution_count": 13,
   "metadata": {},
   "outputs": [
    {
     "data": {
      "text/plain": [
       "array([-0.00137533, -0.00137031, -0.00140797, -0.0015059 ])"
      ]
     },
     "execution_count": 13,
     "metadata": {},
     "output_type": "execute_result"
    }
   ],
   "source": [
    "LIBOR_q = (1+LIBOR)**(1/4) - 1\n",
    "LIBOR_q"
   ]
  },
  {
   "cell_type": "code",
   "execution_count": 19,
   "metadata": {},
   "outputs": [
    {
     "data": {
      "text/html": [
       "<div>\n",
       "<style scoped>\n",
       "    .dataframe tbody tr th:only-of-type {\n",
       "        vertical-align: middle;\n",
       "    }\n",
       "\n",
       "    .dataframe tbody tr th {\n",
       "        vertical-align: top;\n",
       "    }\n",
       "\n",
       "    .dataframe thead th {\n",
       "        text-align: right;\n",
       "    }\n",
       "</style>\n",
       "<table border=\"1\" class=\"dataframe\">\n",
       "  <thead>\n",
       "    <tr style=\"text-align: right;\">\n",
       "      <th></th>\n",
       "      <th>jambe variable</th>\n",
       "      <th>jambe fixe</th>\n",
       "    </tr>\n",
       "  </thead>\n",
       "  <tbody>\n",
       "    <tr>\n",
       "      <th>Q1</th>\n",
       "      <td>-137533.471776</td>\n",
       "      <td>273872.84931</td>\n",
       "    </tr>\n",
       "    <tr>\n",
       "      <th>Q2</th>\n",
       "      <td>-137031.406873</td>\n",
       "      <td>273872.84931</td>\n",
       "    </tr>\n",
       "    <tr>\n",
       "      <th>Q3</th>\n",
       "      <td>-140797.078243</td>\n",
       "      <td>273872.84931</td>\n",
       "    </tr>\n",
       "    <tr>\n",
       "      <th>Q4</th>\n",
       "      <td>-150589.818031</td>\n",
       "      <td>273872.84931</td>\n",
       "    </tr>\n",
       "  </tbody>\n",
       "</table>\n",
       "</div>"
      ],
      "text/plain": [
       "    jambe variable    jambe fixe\n",
       "Q1  -137533.471776  273872.84931\n",
       "Q2  -137031.406873  273872.84931\n",
       "Q3  -140797.078243  273872.84931\n",
       "Q4  -150589.818031  273872.84931"
      ]
     },
     "execution_count": 19,
     "metadata": {},
     "output_type": "execute_result"
    }
   ],
   "source": [
    "dtmp = pd.DataFrame([LIBOR_q * K, np.full(4,swaprate_q*K)]).T\n",
    "dtmp.index = ['Q1','Q2','Q3','Q4']\n",
    "dtmp.columns = ['jambe variable', 'jambe fixe']\n",
    "dtmp"
   ]
  },
  {
   "cell_type": "code",
   "execution_count": 15,
   "metadata": {},
   "outputs": [
    {
     "data": {
      "text/html": [
       "<div>\n",
       "<style scoped>\n",
       "    .dataframe tbody tr th:only-of-type {\n",
       "        vertical-align: middle;\n",
       "    }\n",
       "\n",
       "    .dataframe tbody tr th {\n",
       "        vertical-align: top;\n",
       "    }\n",
       "\n",
       "    .dataframe thead th {\n",
       "        text-align: right;\n",
       "    }\n",
       "</style>\n",
       "<table border=\"1\" class=\"dataframe\">\n",
       "  <thead>\n",
       "    <tr style=\"text-align: right;\">\n",
       "      <th></th>\n",
       "      <th>Gain ou perte</th>\n",
       "    </tr>\n",
       "  </thead>\n",
       "  <tbody>\n",
       "    <tr>\n",
       "      <th>Q1</th>\n",
       "      <td>-411406.321086</td>\n",
       "    </tr>\n",
       "    <tr>\n",
       "      <th>Q2</th>\n",
       "      <td>-410904.256183</td>\n",
       "    </tr>\n",
       "    <tr>\n",
       "      <th>Q3</th>\n",
       "      <td>-414669.927553</td>\n",
       "    </tr>\n",
       "    <tr>\n",
       "      <th>Q4</th>\n",
       "      <td>-424462.667341</td>\n",
       "    </tr>\n",
       "  </tbody>\n",
       "</table>\n",
       "</div>"
      ],
      "text/plain": [
       "    Gain ou perte\n",
       "Q1 -411406.321086\n",
       "Q2 -410904.256183\n",
       "Q3 -414669.927553\n",
       "Q4 -424462.667341"
      ]
     },
     "execution_count": 15,
     "metadata": {},
     "output_type": "execute_result"
    }
   ],
   "source": [
    "dtmp = pd.DataFrame(LIBOR_q * K - swaprate_q*K)\n",
    "dtmp.index = ['Q1','Q2','Q3','Q4']\n",
    "dtmp.columns = ['Gain ou perte']\n",
    "dtmp"
   ]
  },
  {
   "cell_type": "markdown",
   "metadata": {},
   "source": [
    "## Exercice 2"
   ]
  },
  {
   "cell_type": "code",
   "execution_count": 23,
   "metadata": {},
   "outputs": [],
   "source": [
    "CDS = np.array([107.5, 108.8, 114.5, 109])/10000\n",
    "LGD = 45/100"
   ]
  },
  {
   "cell_type": "code",
   "execution_count": 24,
   "metadata": {},
   "outputs": [
    {
     "data": {
      "text/plain": [
       "array([0.02360581, 0.02388784, 0.02512346, 0.02393122])"
      ]
     },
     "execution_count": 24,
     "metadata": {},
     "output_type": "execute_result"
    }
   ],
   "source": [
    "PD = 1- np.exp(-CDS/LGD)\n",
    "PD"
   ]
  },
  {
   "cell_type": "code",
   "execution_count": 10,
   "metadata": {},
   "outputs": [
    {
     "data": {
      "text/html": [
       "<div>\n",
       "<style scoped>\n",
       "    .dataframe tbody tr th:only-of-type {\n",
       "        vertical-align: middle;\n",
       "    }\n",
       "\n",
       "    .dataframe tbody tr th {\n",
       "        vertical-align: top;\n",
       "    }\n",
       "\n",
       "    .dataframe thead th {\n",
       "        text-align: right;\n",
       "    }\n",
       "</style>\n",
       "<table border=\"1\" class=\"dataframe\">\n",
       "  <thead>\n",
       "    <tr style=\"text-align: right;\">\n",
       "      <th></th>\n",
       "      <th>PD 1 an (en %)</th>\n",
       "    </tr>\n",
       "  </thead>\n",
       "  <tbody>\n",
       "    <tr>\n",
       "      <th>Q1</th>\n",
       "      <td>2.3606</td>\n",
       "    </tr>\n",
       "    <tr>\n",
       "      <th>Q2</th>\n",
       "      <td>2.3888</td>\n",
       "    </tr>\n",
       "    <tr>\n",
       "      <th>Q3</th>\n",
       "      <td>2.5123</td>\n",
       "    </tr>\n",
       "    <tr>\n",
       "      <th>Q4</th>\n",
       "      <td>2.3931</td>\n",
       "    </tr>\n",
       "  </tbody>\n",
       "</table>\n",
       "</div>"
      ],
      "text/plain": [
       "    PD 1 an (en %)\n",
       "Q1          2.3606\n",
       "Q2          2.3888\n",
       "Q3          2.5123\n",
       "Q4          2.3931"
      ]
     },
     "execution_count": 10,
     "metadata": {},
     "output_type": "execute_result"
    }
   ],
   "source": [
    "dtmp = pd.DataFrame(np.round(PD*100,4))\n",
    "dtmp.index = ['Q1','Q2','Q3','Q4']\n",
    "dtmp.columns = ['PD 1 an (en %)']\n",
    "dtmp"
   ]
  },
  {
   "cell_type": "code",
   "execution_count": 11,
   "metadata": {},
   "outputs": [
    {
     "data": {
      "text/plain": [
       "array([[0.02360581, 0.02388784, 0.02512346, 0.02393122],\n",
       "       [0.04665438, 0.04720504, 0.04961574, 0.04728973],\n",
       "       [0.06915888, 0.06996526, 0.07349268, 0.07008925],\n",
       "       [0.09113213, 0.09218177, 0.09676975, 0.09234315],\n",
       "       [0.11258669, 0.11386759, 0.11946202, 0.11406448],\n",
       "       [0.1335348 , 0.13503537, 0.14158419, 0.135266  ],\n",
       "       [0.15398841, 0.15569751, 0.16315056, 0.15596014],\n",
       "       [0.1739592 , 0.17586607, 0.18417512, 0.17615904],\n",
       "       [0.19345856, 0.19555284, 0.20467147, 0.19587456],\n",
       "       [0.21249762, 0.21476935, 0.22465287, 0.21511826]])"
      ]
     },
     "execution_count": 11,
     "metadata": {},
     "output_type": "execute_result"
    }
   ],
   "source": [
    "PD = 1- np.exp(-CDS/LGD*np.tile(np.arange(1,10+1),(4,1)).T)\n",
    "PD"
   ]
  },
  {
   "cell_type": "code",
   "execution_count": 12,
   "metadata": {},
   "outputs": [
    {
     "data": {
      "text/html": [
       "<div>\n",
       "<style scoped>\n",
       "    .dataframe tbody tr th:only-of-type {\n",
       "        vertical-align: middle;\n",
       "    }\n",
       "\n",
       "    .dataframe tbody tr th {\n",
       "        vertical-align: top;\n",
       "    }\n",
       "\n",
       "    .dataframe thead th {\n",
       "        text-align: right;\n",
       "    }\n",
       "</style>\n",
       "<table border=\"1\" class=\"dataframe\">\n",
       "  <thead>\n",
       "    <tr style=\"text-align: right;\">\n",
       "      <th></th>\n",
       "      <th>0</th>\n",
       "      <th>1</th>\n",
       "      <th>2</th>\n",
       "      <th>3</th>\n",
       "      <th>4</th>\n",
       "      <th>5</th>\n",
       "      <th>6</th>\n",
       "      <th>7</th>\n",
       "      <th>8</th>\n",
       "      <th>9</th>\n",
       "    </tr>\n",
       "  </thead>\n",
       "  <tbody>\n",
       "    <tr>\n",
       "      <th>Q1</th>\n",
       "      <td>2.3606</td>\n",
       "      <td>4.6654</td>\n",
       "      <td>6.9159</td>\n",
       "      <td>9.1132</td>\n",
       "      <td>11.2587</td>\n",
       "      <td>13.3535</td>\n",
       "      <td>15.3988</td>\n",
       "      <td>17.3959</td>\n",
       "      <td>19.3459</td>\n",
       "      <td>21.2498</td>\n",
       "    </tr>\n",
       "    <tr>\n",
       "      <th>Q2</th>\n",
       "      <td>2.3888</td>\n",
       "      <td>4.7205</td>\n",
       "      <td>6.9965</td>\n",
       "      <td>9.2182</td>\n",
       "      <td>11.3868</td>\n",
       "      <td>13.5035</td>\n",
       "      <td>15.5698</td>\n",
       "      <td>17.5866</td>\n",
       "      <td>19.5553</td>\n",
       "      <td>21.4769</td>\n",
       "    </tr>\n",
       "    <tr>\n",
       "      <th>Q3</th>\n",
       "      <td>2.5123</td>\n",
       "      <td>4.9616</td>\n",
       "      <td>7.3493</td>\n",
       "      <td>9.6770</td>\n",
       "      <td>11.9462</td>\n",
       "      <td>14.1584</td>\n",
       "      <td>16.3151</td>\n",
       "      <td>18.4175</td>\n",
       "      <td>20.4671</td>\n",
       "      <td>22.4653</td>\n",
       "    </tr>\n",
       "    <tr>\n",
       "      <th>Q4</th>\n",
       "      <td>2.3931</td>\n",
       "      <td>4.7290</td>\n",
       "      <td>7.0089</td>\n",
       "      <td>9.2343</td>\n",
       "      <td>11.4064</td>\n",
       "      <td>13.5266</td>\n",
       "      <td>15.5960</td>\n",
       "      <td>17.6159</td>\n",
       "      <td>19.5875</td>\n",
       "      <td>21.5118</td>\n",
       "    </tr>\n",
       "  </tbody>\n",
       "</table>\n",
       "</div>"
      ],
      "text/plain": [
       "         0       1       2       3        4        5        6        7  \\\n",
       "Q1  2.3606  4.6654  6.9159  9.1132  11.2587  13.3535  15.3988  17.3959   \n",
       "Q2  2.3888  4.7205  6.9965  9.2182  11.3868  13.5035  15.5698  17.5866   \n",
       "Q3  2.5123  4.9616  7.3493  9.6770  11.9462  14.1584  16.3151  18.4175   \n",
       "Q4  2.3931  4.7290  7.0089  9.2343  11.4064  13.5266  15.5960  17.6159   \n",
       "\n",
       "          8        9  \n",
       "Q1  19.3459  21.2498  \n",
       "Q2  19.5553  21.4769  \n",
       "Q3  20.4671  22.4653  \n",
       "Q4  19.5875  21.5118  "
      ]
     },
     "execution_count": 12,
     "metadata": {},
     "output_type": "execute_result"
    }
   ],
   "source": [
    "dtmp = pd.DataFrame(np.round(PD.T*100,4))\n",
    "dtmp.index = ['Q1','Q2','Q3','Q4']\n",
    "dtmp"
   ]
  },
  {
   "cell_type": "markdown",
   "metadata": {},
   "source": [
    "## Exercice 3"
   ]
  },
  {
   "cell_type": "code",
   "execution_count": 13,
   "metadata": {},
   "outputs": [],
   "source": [
    "PD = np.array([2.5,2.8,2.9,4.9])/100\n",
    "LGD = 45/100"
   ]
  },
  {
   "cell_type": "code",
   "execution_count": 14,
   "metadata": {},
   "outputs": [
    {
     "data": {
      "text/plain": [
       "array([113.93013593, 127.79763535, 132.42964811, 226.08547397])"
      ]
     },
     "execution_count": 14,
     "metadata": {},
     "output_type": "execute_result"
    }
   ],
   "source": [
    "CDS = -np.log(1-PD)*LGD\n",
    "CDS*100*100"
   ]
  },
  {
   "cell_type": "code",
   "execution_count": 15,
   "metadata": {},
   "outputs": [
    {
     "data": {
      "text/html": [
       "<div>\n",
       "<style scoped>\n",
       "    .dataframe tbody tr th:only-of-type {\n",
       "        vertical-align: middle;\n",
       "    }\n",
       "\n",
       "    .dataframe tbody tr th {\n",
       "        vertical-align: top;\n",
       "    }\n",
       "\n",
       "    .dataframe thead th {\n",
       "        text-align: right;\n",
       "    }\n",
       "</style>\n",
       "<table border=\"1\" class=\"dataframe\">\n",
       "  <thead>\n",
       "    <tr style=\"text-align: right;\">\n",
       "      <th></th>\n",
       "      <th>CDS (en bps)</th>\n",
       "    </tr>\n",
       "  </thead>\n",
       "  <tbody>\n",
       "    <tr>\n",
       "      <th>Q1</th>\n",
       "      <td>113.93</td>\n",
       "    </tr>\n",
       "    <tr>\n",
       "      <th>Q2</th>\n",
       "      <td>127.80</td>\n",
       "    </tr>\n",
       "    <tr>\n",
       "      <th>Q3</th>\n",
       "      <td>132.43</td>\n",
       "    </tr>\n",
       "    <tr>\n",
       "      <th>Q4</th>\n",
       "      <td>226.09</td>\n",
       "    </tr>\n",
       "  </tbody>\n",
       "</table>\n",
       "</div>"
      ],
      "text/plain": [
       "    CDS (en bps)\n",
       "Q1        113.93\n",
       "Q2        127.80\n",
       "Q3        132.43\n",
       "Q4        226.09"
      ]
     },
     "execution_count": 15,
     "metadata": {},
     "output_type": "execute_result"
    }
   ],
   "source": [
    "dtmp = pd.DataFrame(np.round(CDS*100*100,2))\n",
    "dtmp.index = ['Q1','Q2','Q3','Q4']\n",
    "dtmp.columns = ['CDS (en bps)']\n",
    "dtmp"
   ]
  },
  {
   "cell_type": "code",
   "execution_count": 16,
   "metadata": {},
   "outputs": [
    {
     "data": {
      "text/plain": [
       "array([21.47467807, 54.21217304, 19.75161348, 18.97166562,  0.21641386,\n",
       "        7.32542089, 18.61161215,  1.81531529, 13.08225949, 27.82773532])"
      ]
     },
     "execution_count": 16,
     "metadata": {},
     "output_type": "execute_result"
    }
   ],
   "source": [
    "-np.log(np.random.uniform(0,1,10)) / (CDS[-1]/LGD)"
   ]
  },
  {
   "cell_type": "code",
   "execution_count": 29,
   "metadata": {},
   "outputs": [
    {
     "data": {
      "text/plain": [
       "array([46.07885744,  5.87806537,  2.05531078, 13.56098997, 58.62165492,\n",
       "       49.59580075, 43.33832645,  2.07681868,  0.89901898,  1.72929789])"
      ]
     },
     "execution_count": 29,
     "metadata": {},
     "output_type": "execute_result"
    }
   ],
   "source": [
    "np.random.exponential(1/(CDS[-1]/LGD),10)"
   ]
  },
  {
   "cell_type": "code",
   "execution_count": 34,
   "metadata": {},
   "outputs": [
    {
     "name": "stdout",
     "output_type": "stream",
     "text": [
      "[8.06186283]\n",
      "[1.4 1.4 1.4 1.4 1.4 1.4 1.4 1.4 1.4 1.4 1.4 1.4 1.4 1.4 1.4 1.4 1.4 1.4\n",
      " 1.4 1.4 1.4 1.4 1.4 1.4 1.4 1.4 1.4 1.4 1.4 1.4 1.4 1.4 1.4 0.  0.  0.\n",
      " 0.  0.  0.  0. ]\n",
      "[ 0.   0.   0.   0.   0.   0.   0.   0.   0.   0.   0.   0.   0.   0.\n",
      "  0.   0.   0.   0.   0.   0.   0.   0.   0.   0.   0.   0.   0.   0.\n",
      "  0.   0.   0.   0.   0.  22.5  0.   0.   0.   0.   0.   0. ]\n"
     ]
    }
   ],
   "source": [
    "L_fix = 50e6 * np.full(10*4,0)\n",
    "L_var = 50e6 * np.full(10*4,0)\n",
    "\n",
    "default_time = np.random.exponential(1/(CDS[-1]/LGD),1)\n",
    "\n",
    "for t in range(40):\n",
    "    if default_time < t/4:\n",
    "        L_var[t] = 50e6 * LGD\n",
    "        break\n",
    "    L_fix[t] = 50e6 * 0.028\n",
    "\n",
    "print(default_time)\n",
    "print(L_fix/1e6)\n",
    "print(L_var/1e6)"
   ]
  }
 ],
 "metadata": {
  "kernelspec": {
   "display_name": "Python 3 (ipykernel)",
   "language": "python",
   "name": "python3"
  },
  "language_info": {
   "codemirror_mode": {
    "name": "ipython",
    "version": 3
   },
   "file_extension": ".py",
   "mimetype": "text/x-python",
   "name": "python",
   "nbconvert_exporter": "python",
   "pygments_lexer": "ipython3",
   "version": "3.9.7"
  }
 },
 "nbformat": 4,
 "nbformat_minor": 4
}
